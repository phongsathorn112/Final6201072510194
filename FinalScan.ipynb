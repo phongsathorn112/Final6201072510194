{
 "cells": [
  {
   "cell_type": "code",
   "execution_count": 1,
   "metadata": {},
   "outputs": [],
   "source": [
    "import numpy as np\n",
    "import cv2"
   ]
  },
  {
   "cell_type": "code",
   "execution_count": 2,
   "metadata": {},
   "outputs": [],
   "source": [
    "sift = cv2.SIFT_create() #สร้าง sift\n",
    "bf = cv2.BFMatcher() #สร้าง BF เก็บข้อมูลรอแมต"
   ]
  },
  {
   "cell_type": "code",
   "execution_count": 3,
   "metadata": {},
   "outputs": [],
   "source": [
    "def feature_object_detection(template_img, template_gray, query_img, query_gray, min_match_number) :\n",
    "    template_kpts, template_desc = sift.detectAndCompute(template_gray, None) #detect ภาพหนังสือ\n",
    "    query_kpts, query_desc = sift.detectAndCompute(query_gray, None) #detect ในภาพ GRAY\n",
    "    matches = bf.knnMatch(template_desc, query_desc, k=2) #คู่แมต\n",
    "    good_matches = list()\n",
    "    good_matches_list = list()\n",
    "\n",
    "    for m, n in matches :\n",
    "        if m.distance < 0.8*n.distance :\n",
    "            good_matches.append(m)\n",
    "            good_matches_list.append([m])\n",
    "    \n",
    "    if len(good_matches) > min_match_number :\n",
    "        src_pts = np.float32([ template_kpts[m.queryIdx].pt for m in good_matches ]).reshape(-1,1,2)\n",
    "        dst_pts = np.float32([ query_kpts[m.trainIdx].pt for m in good_matches ]).reshape(-1,1,2)\n",
    "\n",
    "        H, inlier_masks = cv2.findHomography(src_pts, dst_pts, cv2.RANSAC, 0.0) # H RANSAC\n",
    "        \n",
    "        h, w = template_img.shape[:2]\n",
    "        template_box = np.float32([[0, 0], [0, h-1], [w-1, h-1], [w-1, 0]]).reshape(-1,1,2)\n",
    "        transformed_box = cv2.perspectiveTransform(template_box, H)\n",
    "\n",
    "        detected_img = cv2.polylines(query_img, [np.int32(transformed_box)], True, (0,0,255), 3, cv2.LINE_AA)\n",
    "        drawmatch_img = cv2.drawMatchesKnn(template_img, template_kpts, detected_img, query_kpts, good_matches_list, None, flags=2, matchesMask=inlier_masks)\n",
    "    \n",
    "        return detected_img, drawmatch_img\n",
    "    else :\n",
    "        print('Keypoints not enough')\n",
    "        return"
   ]
  },
  {
   "cell_type": "code",
   "execution_count": 4,
   "metadata": {},
   "outputs": [],
   "source": [
    "img = cv2.imread('./images/final_exam/Templates/Template-1.png') #รูปที่ต้องการตรวจจับ\n",
    "img_gray = cv2.cvtColor(img,cv2.COLOR_BGR2GRAY) #แปลงรูปเป็น GRAY\n",
    "cap = cv2.VideoCapture('./videos/final_exam/Dataset-2/right_output.avi') #วิดีโอ \n",
    "\n",
    "while cap.isOpened() :\n",
    "    ret, frame = cap.read()\n",
    "    frame_gray = cv2.cvtColor(frame,cv2.COLOR_BGR2GRAY)\n",
    "    if ret :\n",
    "        img1 = frame.copy()\n",
    "        detected_img, drawmatch_img = feature_object_detection(img,img_gray,frame,frame_gray,17)\n",
    "        cv2.imshow('',img)\n",
    "        cv2.imshow('Frame', detected_img)\n",
    "        if cv2.waitKey(1) & 0xff == 27 :\n",
    "            break\n",
    "    else :\n",
    "        break\n",
    "\n",
    "cv2.destroyAllWindows()\n",
    "cap.release()"
   ]
  }
 ],
 "metadata": {
  "interpreter": {
   "hash": "40af363c25450b37a5dd76fdc4661ee5230140fe8e3b633ae4a4b6f8c7b98872"
  },
  "kernelspec": {
   "display_name": "Python 3.9.6 64-bit",
   "language": "python",
   "name": "python3"
  },
  "language_info": {
   "codemirror_mode": {
    "name": "ipython",
    "version": 3
   },
   "file_extension": ".py",
   "mimetype": "text/x-python",
   "name": "python",
   "nbconvert_exporter": "python",
   "pygments_lexer": "ipython3",
   "version": "3.9.6"
  },
  "orig_nbformat": 4
 },
 "nbformat": 4,
 "nbformat_minor": 2
}
